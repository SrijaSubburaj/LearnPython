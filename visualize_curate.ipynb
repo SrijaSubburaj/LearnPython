{
 "cells": [
  {
   "cell_type": "code",
   "execution_count": 1,
   "id": "ca24b0ea",
   "metadata": {},
   "outputs": [
    {
     "name": "stdout",
     "output_type": "stream",
     "text": [
      "Author: Akash L\n",
      "Description: Metadata for DataFRAme\n",
      "Created At: 2023-11-10\n",
      "   Index      Customer Id First Name Last Name  \\\n",
      "0      1  DD37Cf93aecA6Dc     Sheryl    Baxter   \n",
      "1      2  1Ef7b82A4CAAD10    Preston    Lozano   \n",
      "2      3  6F94879bDAfE5a6        Roy     Berry   \n",
      "3      4  5Cef8BFA16c5e3c      Linda     Olsen   \n",
      "4      5  053d585Ab6b3159     Joanna    Bender   \n",
      "\n",
      "                           Company               City  \\\n",
      "0                  Rasmussen Group       East Leonard   \n",
      "1                      Vega-Gentry  East Jimmychester   \n",
      "2                    Murillo-Perry      Isabelborough   \n",
      "3  Dominguez, Mcmillan and Donovan         Bensonview   \n",
      "4         Martin, Lang and Andrade     West Priscilla   \n",
      "\n",
      "                      Country                 Phone 1                Phone 2  \\\n",
      "0                       Chile            229.077.5154       397.884.0519x718   \n",
      "1                    Djibouti              5153435776       686-620-1820x944   \n",
      "2         Antigua and Barbuda         +1-539-402-0259    (496)978-3969x58947   \n",
      "3          Dominican Republic  001-808-617-6467x12895        +1-813-324-8756   \n",
      "4  Slovakia (Slovak Republic)  001-234-203-0635x76146  001-199-446-3860x3486   \n",
      "\n",
      "                         Email Subscription Date                      Website  \\\n",
      "0     zunigavanessa@smith.info        2020-08-24   http://www.stephenson.com/   \n",
      "1              vmata@colon.com        2021-04-23        http://www.hobbs.com/   \n",
      "2          beckycarr@hogan.com        2020-03-25     http://www.lawrence.com/   \n",
      "3  stanleyblackwell@benson.org        2020-06-02   http://www.good-lyons.com/   \n",
      "4      colinalvarado@miles.net        2021-04-17  https://goodwin-ingram.com/   \n",
      "\n",
      "    author             description  created_at                 Timeseries  \n",
      "0  Akash L  Metadata for DataFRAme  2023-11-10 2023-11-13 15:21:36.925064  \n",
      "1  Akash L  Metadata for DataFRAme  2023-11-10 2023-11-13 15:21:36.925064  \n",
      "2  Akash L  Metadata for DataFRAme  2023-11-10 2023-11-13 15:21:36.925064  \n",
      "3  Akash L  Metadata for DataFRAme  2023-11-10 2023-11-13 15:21:36.925064  \n",
      "4  Akash L  Metadata for DataFRAme  2023-11-10 2023-11-13 15:21:36.925064  \n"
     ]
    }
   ],
   "source": [
    "import pyarrow.parquet as pq\n",
    "import pandas as pd\n",
    "curated_directory = \"./curated/curated.parquet\"\n",
    "curated_table = pq.read_table(curated_directory)\n",
    "author_metadata = curated_table.column(\"author\")[0].as_py()\n",
    "description_metadata = curated_table.column(\"description\")[0].as_py()\n",
    "created_at_metadata = curated_table.column(\"created_at\")[0].as_py()\n",
    "print(\"Author:\", author_metadata)\n",
    "print(\"Description:\", description_metadata)\n",
    "print(\"Created At:\", created_at_metadata)\n",
    "curated_df = curated_table.to_pandas()\n",
    "print(curated_df.head())\n"
   ]
  },
  {
   "cell_type": "code",
   "execution_count": null,
   "id": "f34f8435",
   "metadata": {},
   "outputs": [],
   "source": []
  },
  {
   "cell_type": "code",
   "execution_count": null,
   "id": "a62def80",
   "metadata": {},
   "outputs": [],
   "source": []
  },
  {
   "cell_type": "code",
   "execution_count": null,
   "id": "9c2ca0c6",
   "metadata": {},
   "outputs": [],
   "source": []
  },
  {
   "cell_type": "code",
   "execution_count": null,
   "id": "260f2c39",
   "metadata": {},
   "outputs": [],
   "source": []
  }
 ],
 "metadata": {
  "kernelspec": {
   "display_name": "Python 3 (ipykernel)",
   "language": "python",
   "name": "python3"
  },
  "language_info": {
   "codemirror_mode": {
    "name": "ipython",
    "version": 3
   },
   "file_extension": ".py",
   "mimetype": "text/x-python",
   "name": "python",
   "nbconvert_exporter": "python",
   "pygments_lexer": "ipython3",
   "version": "3.8.18"
  }
 },
 "nbformat": 4,
 "nbformat_minor": 5
}
